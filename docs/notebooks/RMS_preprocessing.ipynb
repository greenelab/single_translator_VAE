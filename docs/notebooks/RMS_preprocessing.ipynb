{
 "cells": [
  {
   "cell_type": "markdown",
   "metadata": {},
   "source": [
    "The data can be directly downloaded from the [ScPCA Portal, from Alex's Lemonade Stand Foundation](https://scpca.alexslemonade.org/projects/SCPCP000005)"
   ]
  },
  {
   "cell_type": "code",
   "execution_count": 1,
   "metadata": {},
   "outputs": [],
   "source": [
    "# import the dependencies\n",
    "import sys\n",
    "\n",
    "# general imports\n",
    "import single_translator_VAE as sv\n",
    "from importlib import reload\n",
    "\n",
    "import os\n",
    "import pandas as pd\n",
    "import scanpy as sc\n",
    "\n",
    "sys.path.insert(1, \"../../\")\n",
    "sys.path.insert(1, \"../\")\n",
    "sys.path.insert(1, \"../../../../../\")\n",
    "reload(sv)"
   ]
  },
  {
   "cell_type": "markdown",
   "metadata": {},
   "source": [
    "Now reading in the other set of Anndatas from the Single-Cell Atlas:"
   ]
  },
  {
   "cell_type": "code",
   "execution_count": 2,
   "metadata": {},
   "outputs": [],
   "source": [
    "res_name = \"RMS\"\n",
    "# Directory containing all the folders\n",
    "path = f\"{os.getcwd()}/../../data/{res_name}/\"\n",
    "base_dir = f\"{os.getcwd()}/../../data/{res_name}/SCPCP000005_SINGLE_CELL_ANN_DATA_2024-08-01\""
   ]
  },
  {
   "cell_type": "code",
   "execution_count": 3,
   "metadata": {},
   "outputs": [
    {
     "name": "stdout",
     "output_type": "stream",
     "text": [
      "Reading /Users/ivicha/Documents/snsc_VAE/single_translator_VAE/docs/notebooks/../../data/RMS/SCPCP000005_SINGLE_CELL_ANN_DATA_2024-08-01/SCPCS000277/SCPCL000503_processed_rna.h5ad...\n",
      "Reading /Users/ivicha/Documents/snsc_VAE/single_translator_VAE/docs/notebooks/../../data/RMS/SCPCP000005_SINGLE_CELL_ANN_DATA_2024-08-01/SCPCS000283/SCPCL000509_processed_rna.h5ad...\n",
      "Reading /Users/ivicha/Documents/snsc_VAE/single_translator_VAE/docs/notebooks/../../data/RMS/SCPCP000005_SINGLE_CELL_ANN_DATA_2024-08-01/SCPCS000284/SCPCL000510_processed_rna.h5ad...\n",
      "Reading /Users/ivicha/Documents/snsc_VAE/single_translator_VAE/docs/notebooks/../../data/RMS/SCPCP000005_SINGLE_CELL_ANN_DATA_2024-08-01/SCPCS000270/SCPCL000496_processed_rna.h5ad...\n",
      "Reading /Users/ivicha/Documents/snsc_VAE/single_translator_VAE/docs/notebooks/../../data/RMS/SCPCP000005_SINGLE_CELL_ANN_DATA_2024-08-01/SCPCS000279/SCPCL000505_processed_rna.h5ad...\n",
      "Reading /Users/ivicha/Documents/snsc_VAE/single_translator_VAE/docs/notebooks/../../data/RMS/SCPCP000005_SINGLE_CELL_ANN_DATA_2024-08-01/SCPCS000278/SCPCL000504_processed_rna.h5ad...\n",
      "Reading /Users/ivicha/Documents/snsc_VAE/single_translator_VAE/docs/notebooks/../../data/RMS/SCPCP000005_SINGLE_CELL_ANN_DATA_2024-08-01/SCPCS000271/SCPCL000497_processed_rna.h5ad...\n",
      "Reading /Users/ivicha/Documents/snsc_VAE/single_translator_VAE/docs/notebooks/../../data/RMS/SCPCP000005_SINGLE_CELL_ANN_DATA_2024-08-01/SCPCS000285/SCPCL000511_processed_rna.h5ad...\n",
      "Reading /Users/ivicha/Documents/snsc_VAE/single_translator_VAE/docs/notebooks/../../data/RMS/SCPCP000005_SINGLE_CELL_ANN_DATA_2024-08-01/SCPCS000282/SCPCL000508_processed_rna.h5ad...\n",
      "Reading /Users/ivicha/Documents/snsc_VAE/single_translator_VAE/docs/notebooks/../../data/RMS/SCPCP000005_SINGLE_CELL_ANN_DATA_2024-08-01/SCPCS000276/SCPCL000502_processed_rna.h5ad...\n",
      "Reading /Users/ivicha/Documents/snsc_VAE/single_translator_VAE/docs/notebooks/../../data/RMS/SCPCP000005_SINGLE_CELL_ANN_DATA_2024-08-01/SCPCS000705/SCPCL001067_processed_rna.h5ad...\n",
      "Reading /Users/ivicha/Documents/snsc_VAE/single_translator_VAE/docs/notebooks/../../data/RMS/SCPCP000005_SINGLE_CELL_ANN_DATA_2024-08-01/SCPCS000704/SCPCL001066_processed_rna.h5ad...\n",
      "Reading /Users/ivicha/Documents/snsc_VAE/single_translator_VAE/docs/notebooks/../../data/RMS/SCPCP000005_SINGLE_CELL_ANN_DATA_2024-08-01/SCPCS000710/SCPCL001072_processed_rna.h5ad...\n",
      "Reading /Users/ivicha/Documents/snsc_VAE/single_translator_VAE/docs/notebooks/../../data/RMS/SCPCP000005_SINGLE_CELL_ANN_DATA_2024-08-01/SCPCS000717/SCPCL001079_processed_rna.h5ad...\n",
      "Reading /Users/ivicha/Documents/snsc_VAE/single_translator_VAE/docs/notebooks/../../data/RMS/SCPCP000005_SINGLE_CELL_ANN_DATA_2024-08-01/SCPCS000716/SCPCL001078_processed_rna.h5ad...\n",
      "Reading /Users/ivicha/Documents/snsc_VAE/single_translator_VAE/docs/notebooks/../../data/RMS/SCPCP000005_SINGLE_CELL_ANN_DATA_2024-08-01/SCPCS000711/SCPCL001073_processed_rna.h5ad...\n",
      "Reading /Users/ivicha/Documents/snsc_VAE/single_translator_VAE/docs/notebooks/../../data/RMS/SCPCP000005_SINGLE_CELL_ANN_DATA_2024-08-01/SCPCS000254/SCPCL000480_processed_rna.h5ad...\n",
      "Reading /Users/ivicha/Documents/snsc_VAE/single_translator_VAE/docs/notebooks/../../data/RMS/SCPCP000005_SINGLE_CELL_ANN_DATA_2024-08-01/SCPCS000253/SCPCL000479_processed_rna.h5ad...\n",
      "Reading /Users/ivicha/Documents/snsc_VAE/single_translator_VAE/docs/notebooks/../../data/RMS/SCPCP000005_SINGLE_CELL_ANN_DATA_2024-08-01/SCPCS000265/SCPCL000491_processed_rna.h5ad...\n",
      "Reading /Users/ivicha/Documents/snsc_VAE/single_translator_VAE/docs/notebooks/../../data/RMS/SCPCP000005_SINGLE_CELL_ANN_DATA_2024-08-01/SCPCS000291/SCPCL000517_processed_rna.h5ad...\n",
      "Reading /Users/ivicha/Documents/snsc_VAE/single_translator_VAE/docs/notebooks/../../data/RMS/SCPCP000005_SINGLE_CELL_ANN_DATA_2024-08-01/SCPCS000296/SCPCL000522_processed_rna.h5ad...\n",
      "Reading /Users/ivicha/Documents/snsc_VAE/single_translator_VAE/docs/notebooks/../../data/RMS/SCPCP000005_SINGLE_CELL_ANN_DATA_2024-08-01/SCPCS000262/SCPCL000488_processed_rna.h5ad...\n",
      "Reading /Users/ivicha/Documents/snsc_VAE/single_translator_VAE/docs/notebooks/../../data/RMS/SCPCP000005_SINGLE_CELL_ANN_DATA_2024-08-01/SCPCS000263/SCPCL000489_processed_rna.h5ad...\n",
      "Reading /Users/ivicha/Documents/snsc_VAE/single_translator_VAE/docs/notebooks/../../data/RMS/SCPCP000005_SINGLE_CELL_ANN_DATA_2024-08-01/SCPCS000290/SCPCL000516_processed_rna.h5ad...\n",
      "Reading /Users/ivicha/Documents/snsc_VAE/single_translator_VAE/docs/notebooks/../../data/RMS/SCPCP000005_SINGLE_CELL_ANN_DATA_2024-08-01/SCPCS000264/SCPCL000490_processed_rna.h5ad...\n",
      "Reading /Users/ivicha/Documents/snsc_VAE/single_translator_VAE/docs/notebooks/../../data/RMS/SCPCP000005_SINGLE_CELL_ANN_DATA_2024-08-01/SCPCS000252/SCPCL000478_processed_rna.h5ad...\n",
      "Reading /Users/ivicha/Documents/snsc_VAE/single_translator_VAE/docs/notebooks/../../data/RMS/SCPCP000005_SINGLE_CELL_ANN_DATA_2024-08-01/SCPCS000255/SCPCL000481_processed_rna.h5ad...\n",
      "Reading /Users/ivicha/Documents/snsc_VAE/single_translator_VAE/docs/notebooks/../../data/RMS/SCPCP000005_SINGLE_CELL_ANN_DATA_2024-08-01/SCPCS000287/SCPCL000513_processed_rna.h5ad...\n",
      "Reading /Users/ivicha/Documents/snsc_VAE/single_translator_VAE/docs/notebooks/../../data/RMS/SCPCP000005_SINGLE_CELL_ANN_DATA_2024-08-01/SCPCS000273/SCPCL000499_processed_rna.h5ad...\n",
      "Reading /Users/ivicha/Documents/snsc_VAE/single_translator_VAE/docs/notebooks/../../data/RMS/SCPCP000005_SINGLE_CELL_ANN_DATA_2024-08-01/SCPCS000274/SCPCL000500_processed_rna.h5ad...\n",
      "Reading /Users/ivicha/Documents/snsc_VAE/single_translator_VAE/docs/notebooks/../../data/RMS/SCPCP000005_SINGLE_CELL_ANN_DATA_2024-08-01/SCPCS000280/SCPCL000506_processed_rna.h5ad...\n",
      "Reading /Users/ivicha/Documents/snsc_VAE/single_translator_VAE/docs/notebooks/../../data/RMS/SCPCP000005_SINGLE_CELL_ANN_DATA_2024-08-01/SCPCS000289/SCPCL000515_processed_rna.h5ad...\n",
      "Reading /Users/ivicha/Documents/snsc_VAE/single_translator_VAE/docs/notebooks/../../data/RMS/SCPCP000005_SINGLE_CELL_ANN_DATA_2024-08-01/SCPCS000288/SCPCL000514_processed_rna.h5ad...\n",
      "Reading /Users/ivicha/Documents/snsc_VAE/single_translator_VAE/docs/notebooks/../../data/RMS/SCPCP000005_SINGLE_CELL_ANN_DATA_2024-08-01/SCPCS000281/SCPCL000507_processed_rna.h5ad...\n",
      "Reading /Users/ivicha/Documents/snsc_VAE/single_translator_VAE/docs/notebooks/../../data/RMS/SCPCP000005_SINGLE_CELL_ANN_DATA_2024-08-01/SCPCS000275/SCPCL000501_processed_rna.h5ad...\n",
      "Reading /Users/ivicha/Documents/snsc_VAE/single_translator_VAE/docs/notebooks/../../data/RMS/SCPCP000005_SINGLE_CELL_ANN_DATA_2024-08-01/SCPCS000286/SCPCL000512_processed_rna.h5ad...\n",
      "Reading /Users/ivicha/Documents/snsc_VAE/single_translator_VAE/docs/notebooks/../../data/RMS/SCPCP000005_SINGLE_CELL_ANN_DATA_2024-08-01/SCPCS000706/SCPCL001068_processed_rna.h5ad...\n",
      "Reading /Users/ivicha/Documents/snsc_VAE/single_translator_VAE/docs/notebooks/../../data/RMS/SCPCP000005_SINGLE_CELL_ANN_DATA_2024-08-01/SCPCS000708/SCPCL001070_processed_rna.h5ad...\n",
      "Reading /Users/ivicha/Documents/snsc_VAE/single_translator_VAE/docs/notebooks/../../data/RMS/SCPCP000005_SINGLE_CELL_ANN_DATA_2024-08-01/SCPCS000709/SCPCL001071_processed_rna.h5ad...\n",
      "Reading /Users/ivicha/Documents/snsc_VAE/single_translator_VAE/docs/notebooks/../../data/RMS/SCPCP000005_SINGLE_CELL_ANN_DATA_2024-08-01/SCPCS000707/SCPCL001069_processed_rna.h5ad...\n",
      "Reading /Users/ivicha/Documents/snsc_VAE/single_translator_VAE/docs/notebooks/../../data/RMS/SCPCP000005_SINGLE_CELL_ANN_DATA_2024-08-01/SCPCS000714/SCPCL001076_processed_rna.h5ad...\n",
      "Reading /Users/ivicha/Documents/snsc_VAE/single_translator_VAE/docs/notebooks/../../data/RMS/SCPCP000005_SINGLE_CELL_ANN_DATA_2024-08-01/SCPCS000713/SCPCL001075_processed_rna.h5ad...\n",
      "Reading /Users/ivicha/Documents/snsc_VAE/single_translator_VAE/docs/notebooks/../../data/RMS/SCPCP000005_SINGLE_CELL_ANN_DATA_2024-08-01/SCPCS000712/SCPCL001074_processed_rna.h5ad...\n",
      "Reading /Users/ivicha/Documents/snsc_VAE/single_translator_VAE/docs/notebooks/../../data/RMS/SCPCP000005_SINGLE_CELL_ANN_DATA_2024-08-01/SCPCS000715/SCPCL001077_processed_rna.h5ad...\n",
      "Reading /Users/ivicha/Documents/snsc_VAE/single_translator_VAE/docs/notebooks/../../data/RMS/SCPCP000005_SINGLE_CELL_ANN_DATA_2024-08-01/SCPCS000250/SCPCL000476_processed_rna.h5ad...\n",
      "Reading /Users/ivicha/Documents/snsc_VAE/single_translator_VAE/docs/notebooks/../../data/RMS/SCPCP000005_SINGLE_CELL_ANN_DATA_2024-08-01/SCPCS000250/SCPCL000495_processed_rna.h5ad...\n",
      "Reading /Users/ivicha/Documents/snsc_VAE/single_translator_VAE/docs/notebooks/../../data/RMS/SCPCP000005_SINGLE_CELL_ANN_DATA_2024-08-01/SCPCS000268/SCPCL000494_processed_rna.h5ad...\n",
      "Reading /Users/ivicha/Documents/snsc_VAE/single_translator_VAE/docs/notebooks/../../data/RMS/SCPCP000005_SINGLE_CELL_ANN_DATA_2024-08-01/SCPCS000257/SCPCL000483_processed_rna.h5ad...\n",
      "Reading /Users/ivicha/Documents/snsc_VAE/single_translator_VAE/docs/notebooks/../../data/RMS/SCPCP000005_SINGLE_CELL_ANN_DATA_2024-08-01/SCPCS000295/SCPCL000521_processed_rna.h5ad...\n",
      "Reading /Users/ivicha/Documents/snsc_VAE/single_translator_VAE/docs/notebooks/../../data/RMS/SCPCP000005_SINGLE_CELL_ANN_DATA_2024-08-01/SCPCS000261/SCPCL000487_processed_rna.h5ad...\n",
      "Reading /Users/ivicha/Documents/snsc_VAE/single_translator_VAE/docs/notebooks/../../data/RMS/SCPCP000005_SINGLE_CELL_ANN_DATA_2024-08-01/SCPCS000259/SCPCL000485_processed_rna.h5ad...\n",
      "Reading /Users/ivicha/Documents/snsc_VAE/single_translator_VAE/docs/notebooks/../../data/RMS/SCPCP000005_SINGLE_CELL_ANN_DATA_2024-08-01/SCPCS000266/SCPCL000492_processed_rna.h5ad...\n",
      "Reading /Users/ivicha/Documents/snsc_VAE/single_translator_VAE/docs/notebooks/../../data/RMS/SCPCP000005_SINGLE_CELL_ANN_DATA_2024-08-01/SCPCS000292/SCPCL000518_processed_rna.h5ad...\n",
      "Reading /Users/ivicha/Documents/snsc_VAE/single_translator_VAE/docs/notebooks/../../data/RMS/SCPCP000005_SINGLE_CELL_ANN_DATA_2024-08-01/SCPCS000258/SCPCL000484_processed_rna.h5ad...\n",
      "Reading /Users/ivicha/Documents/snsc_VAE/single_translator_VAE/docs/notebooks/../../data/RMS/SCPCP000005_SINGLE_CELL_ANN_DATA_2024-08-01/SCPCS000293/SCPCL000519_processed_rna.h5ad...\n",
      "Reading /Users/ivicha/Documents/snsc_VAE/single_translator_VAE/docs/notebooks/../../data/RMS/SCPCP000005_SINGLE_CELL_ANN_DATA_2024-08-01/SCPCS000267/SCPCL000493_processed_rna.h5ad...\n",
      "Reading /Users/ivicha/Documents/snsc_VAE/single_translator_VAE/docs/notebooks/../../data/RMS/SCPCP000005_SINGLE_CELL_ANN_DATA_2024-08-01/SCPCS000260/SCPCL000486_processed_rna.h5ad...\n",
      "Reading /Users/ivicha/Documents/snsc_VAE/single_translator_VAE/docs/notebooks/../../data/RMS/SCPCP000005_SINGLE_CELL_ANN_DATA_2024-08-01/SCPCS000294/SCPCL000520_processed_rna.h5ad...\n",
      "Reading /Users/ivicha/Documents/snsc_VAE/single_translator_VAE/docs/notebooks/../../data/RMS/SCPCP000005_SINGLE_CELL_ANN_DATA_2024-08-01/SCPCS000256/SCPCL000482_processed_rna.h5ad...\n",
      "Reading /Users/ivicha/Documents/snsc_VAE/single_translator_VAE/docs/notebooks/../../data/RMS/SCPCP000005_SINGLE_CELL_ANN_DATA_2024-08-01/SCPCS000251/SCPCL000477_processed_rna.h5ad...\n",
      "Reading /Users/ivicha/Documents/snsc_VAE/single_translator_VAE/docs/notebooks/../../data/RMS/SCPCP000005_SINGLE_CELL_ANN_DATA_2024-08-01/SCPCS000251/SCPCL000498_processed_rna.h5ad...\n",
      "Total AnnData objects read: 61\n"
     ]
    }
   ],
   "source": [
    "# List to store the AnnData objects\n",
    "anndata_list = []\n",
    "\n",
    "# Loop through each folder in the base directory\n",
    "for folder_name in os.listdir(base_dir):\n",
    "    folder_path = os.path.join(base_dir, folder_name)\n",
    "    if os.path.isdir(folder_path):\n",
    "        # Look for the _processed_rna.h5ad file in the folder\n",
    "        for file_name in os.listdir(folder_path):\n",
    "            if file_name.endswith(\"_processed_rna.h5ad\"):\n",
    "                file_path = os.path.join(folder_path, file_name)\n",
    "                print(f\"Reading {file_path}...\")\n",
    "                adata = sc.read_h5ad(file_path)\n",
    "                anndata_list.append(adata)\n",
    "\n",
    "# Check the number of AnnData objects read\n",
    "print(f\"Total AnnData objects read: {len(anndata_list)}\")"
   ]
  },
  {
   "cell_type": "code",
   "execution_count": 4,
   "metadata": {},
   "outputs": [
    {
     "name": "stdout",
     "output_type": "stream",
     "text": [
      "Number of common genes: 60319\n",
      "Dataset 0: (9233, 60319)\n",
      "Dataset 1: (7656, 60319)\n",
      "Dataset 2: (8858, 60319)\n",
      "Dataset 3: (5439, 60319)\n",
      "Dataset 4: (4539, 60319)\n",
      "Dataset 5: (4407, 60319)\n",
      "Dataset 6: (369, 60319)\n",
      "Dataset 7: (3851, 60319)\n",
      "Dataset 8: (7385, 60319)\n",
      "Dataset 9: (8173, 60319)\n",
      "Dataset 10: (8135, 60319)\n",
      "Dataset 11: (6665, 60319)\n",
      "Dataset 12: (9085, 60319)\n",
      "Dataset 13: (9109, 60319)\n",
      "Dataset 14: (5213, 60319)\n",
      "Dataset 15: (3519, 60319)\n",
      "Dataset 16: (4797, 60319)\n",
      "Dataset 17: (2485, 60319)\n",
      "Dataset 18: (4198, 60319)\n",
      "Dataset 19: (5396, 60319)\n",
      "Dataset 20: (11906, 60319)\n",
      "Dataset 21: (5954, 60319)\n",
      "Dataset 22: (4820, 60319)\n",
      "Dataset 23: (6133, 60319)\n",
      "Dataset 24: (7178, 60319)\n",
      "Dataset 25: (4224, 60319)\n",
      "Dataset 26: (5382, 60319)\n",
      "Dataset 27: (5748, 60319)\n",
      "Dataset 28: (5098, 60319)\n",
      "Dataset 29: (1129, 60319)\n",
      "Dataset 30: (4305, 60319)\n",
      "Dataset 31: (5615, 60319)\n",
      "Dataset 32: (6371, 60319)\n",
      "Dataset 33: (9139, 60319)\n",
      "Dataset 34: (753, 60319)\n",
      "Dataset 35: (4059, 60319)\n",
      "Dataset 36: (105, 60319)\n",
      "Dataset 37: (4817, 60319)\n",
      "Dataset 38: (6834, 60319)\n",
      "Dataset 39: (6386, 60319)\n",
      "Dataset 40: (4757, 60319)\n",
      "Dataset 41: (5197, 60319)\n",
      "Dataset 42: (5890, 60319)\n",
      "Dataset 43: (6293, 60319)\n",
      "Dataset 44: (4491, 60319)\n",
      "Dataset 45: (4918, 60319)\n",
      "Dataset 46: (1224, 60319)\n",
      "Dataset 47: (836, 60319)\n",
      "Dataset 48: (5136, 60319)\n",
      "Dataset 49: (4987, 60319)\n",
      "Dataset 50: (5580, 60319)\n",
      "Dataset 51: (7601, 60319)\n",
      "Dataset 52: (4828, 60319)\n",
      "Dataset 53: (5344, 60319)\n",
      "Dataset 54: (73, 60319)\n",
      "Dataset 55: (428, 60319)\n",
      "Dataset 56: (1997, 60319)\n",
      "Dataset 57: (4708, 60319)\n",
      "Dataset 58: (5038, 60319)\n",
      "Dataset 59: (3842, 60319)\n",
      "Dataset 60: (6076, 60319)\n"
     ]
    }
   ],
   "source": [
    "# Find the intersection of all gene names (variables) across all AnnData objects\n",
    "common_genes = set(anndata_list[0].var_names)\n",
    "for adata in anndata_list[1:]:\n",
    "    common_genes &= set(adata.var_names)\n",
    "\n",
    "# Convert to a list and sort\n",
    "common_genes = list(common_genes)\n",
    "common_genes.sort()\n",
    "print(f\"Number of common genes: {len(common_genes)}\")\n",
    "\n",
    "# Filter each AnnData object to only include the common genes\n",
    "filtered_anndata_list = []\n",
    "for adata in anndata_list:\n",
    "    # Subset the AnnData object to only the common genes\n",
    "    adata_filtered = adata[:, common_genes].copy()\n",
    "    filtered_anndata_list.append(adata_filtered)\n",
    "\n",
    "# Check the dimensions of the filtered datasets\n",
    "for i, adata_filtered in enumerate(filtered_anndata_list):\n",
    "    print(f\"Dataset {i}: {adata_filtered.shape}\")"
   ]
  },
  {
   "cell_type": "code",
   "execution_count": 5,
   "metadata": {},
   "outputs": [
    {
     "name": "stderr",
     "output_type": "stream",
     "text": [
      "/Users/ivicha/Documents/snsc_VAE/env_vae/lib/python3.11/site-packages/anndata/_core/anndata.py:1818: UserWarning: Observation names are not unique. To make them unique, call `.obs_names_make_unique`.\n",
      "  utils.warn_names_duplicates(\"obs\")\n",
      "/Users/ivicha/Documents/snsc_VAE/env_vae/lib/python3.11/site-packages/anndata/_core/anndata.py:1818: UserWarning: Observation names are not unique. To make them unique, call `.obs_names_make_unique`.\n",
      "  utils.warn_names_duplicates(\"obs\")\n"
     ]
    }
   ],
   "source": [
    "# Concatenate all the filtered AnnData objects into a single AnnData object\n",
    "combined_adata = sc.concat(filtered_anndata_list, axis=0)"
   ]
  },
  {
   "cell_type": "code",
   "execution_count": 5,
   "metadata": {},
   "outputs": [
    {
     "name": "stderr",
     "output_type": "stream",
     "text": [
      "/Users/ivicha/Documents/snsc_VAE/env_vae/lib/python3.11/site-packages/anndata/_core/anndata.py:1818: UserWarning: Observation names are not unique. To make them unique, call `.obs_names_make_unique`.\n",
      "  utils.warn_names_duplicates(\"obs\")\n",
      "/Users/ivicha/Documents/snsc_VAE/env_vae/lib/python3.11/site-packages/anndata/_core/anndata.py:1818: UserWarning: Observation names are not unique. To make them unique, call `.obs_names_make_unique`.\n",
      "  utils.warn_names_duplicates(\"obs\")\n"
     ]
    },
    {
     "name": "stdout",
     "output_type": "stream",
     "text": [
      "Combined AnnData shape: (313712, 60319)\n"
     ]
    }
   ],
   "source": [
    "# We don't want log counts for now:\n",
    "combined_adata.layers[\"counts\"] = combined_adata.layers[\"spliced\"]\n",
    "combined_adata.X = combined_adata.layers[\"spliced\"]\n",
    "\n",
    "# Check the dimensions of the combined AnnData object\n",
    "print(f\"Combined AnnData shape: {combined_adata.shape}\")"
   ]
  },
  {
   "cell_type": "markdown",
   "metadata": {},
   "source": [
    "We'll remove the version of 10Xv3.1, keeping only 10Xv2 and 10Xv3."
   ]
  },
  {
   "cell_type": "code",
   "execution_count": 6,
   "metadata": {},
   "outputs": [],
   "source": [
    "# Sample IDs to be removed\n",
    "sample_ids_to_remove = [\n",
    "    \"SCPCS000704\",\n",
    "    \"SCPCS000707\",\n",
    "    \"SCPCS000709\",\n",
    "    \"SCPCS000710\",\n",
    "    \"SCPCS000711\",\n",
    "    \"SCPCS000712\",\n",
    "    \"SCPCS000713\",\n",
    "    \"SCPCS000714\",\n",
    "    \"SCPCS000715\",\n",
    "    \"SCPCS000716\",\n",
    "    \"SCPCS000717\",\n",
    "]\n",
    "# Remove the specified sample_ids from combined_adata based on scpca_sample_ids\n",
    "combined_adata = combined_adata[~combined_adata.obs.sample_id.isin(sample_ids_to_remove)]"
   ]
  },
  {
   "cell_type": "code",
   "execution_count": 7,
   "metadata": {},
   "outputs": [
    {
     "name": "stderr",
     "output_type": "stream",
     "text": [
      "/var/folders/d3/x10lxf7x1n37__s3n36qxmlw0000gp/T/ipykernel_37417/2257091691.py:1: ImplicitModificationWarning: Trying to modify attribute `.obs` of view, initializing view as actual.\n",
      "  combined_adata.obs[\"batch\"] = combined_adata.obs[\"sample_id\"]\n"
     ]
    },
    {
     "name": "stdout",
     "output_type": "stream",
     "text": [
      "cell_types\n",
      "muscle cell                                        66633\n",
      "cell of skeletal muscle                            51640\n",
      "fibroblast                                         23252\n",
      "astrocyte                                          18984\n",
      "neuron                                             18731\n",
      "chondrocyte                                        15878\n",
      "smooth muscle cell                                 12844\n",
      "mesangial cell                                     12224\n",
      "macrophage                                          3916\n",
      "pericyte                                            3882\n",
      "endothelial cell                                    3450\n",
      "erythrocyte                                         2919\n",
      "fat cell                                            2138\n",
      "microvascular endothelial cell                       953\n",
      "epithelial cell                                      951\n",
      "monocyte                                             940\n",
      "hematopoietic stem cell                              557\n",
      "common lymphoid progenitor                           397\n",
      "effector memory CD8-positive, alpha-beta T cell      312\n",
      "melanocyte                                           286\n",
      "CD4-positive, alpha-beta T cell                      253\n",
      "megakaryocyte-erythroid progenitor cell              228\n",
      "central memory CD8-positive, alpha-beta T cell       142\n",
      "Unclassified cell                                     97\n",
      "dendritic cell                                        85\n",
      "plasma cell                                           80\n",
      "hematopoietic multipotent progenitor cell             75\n",
      "natural killer cell                                   70\n",
      "megakaryocyte                                         64\n",
      "alternatively activated macrophage                    51\n",
      "effector memory CD4-positive, alpha-beta T cell       50\n",
      "CD8-positive, alpha-beta T cell                       49\n",
      "regulatory T cell                                     49\n",
      "neutrophil                                            47\n",
      "naive B cell                                          42\n",
      "central memory CD4-positive, alpha-beta T cell        39\n",
      "granulocyte monocyte progenitor cell                  28\n",
      "keratinocyte                                          23\n",
      "eosinophil                                            18\n",
      "inflammatory macrophage                               13\n",
      "class switched memory B cell                          12\n",
      "memory B cell                                          6\n",
      "common myeloid progenitor                              5\n",
      "Name: count, dtype: int64\n",
      "['chondrocyte', 'cell of skeletal muscle', 'macrophage', 'muscle cell', 'fat cell', ..., 'class switched memory B cell', 'keratinocyte', 'neutrophil', 'memory B cell', 'common myeloid progenitor']\n",
      "Length: 44\n",
      "Categories (43, object): ['CD4-positive, alpha-beta T cell', 'CD8-positive, alpha-beta T cell', 'Unclassified cell', 'alternatively activated macrophage', ..., 'pericyte', 'plasma cell', 'regulatory T cell', 'smooth muscle cell']\n"
     ]
    },
    {
     "name": "stderr",
     "output_type": "stream",
     "text": [
      "/Users/ivicha/Documents/snsc_VAE/env_vae/lib/python3.11/site-packages/anndata/_core/anndata.py:1818: UserWarning: Observation names are not unique. To make them unique, call `.obs_names_make_unique`.\n",
      "  utils.warn_names_duplicates(\"obs\")\n",
      "/Users/ivicha/Documents/snsc_VAE/env_vae/lib/python3.11/site-packages/anndata/_core/anndata.py:1818: UserWarning: Observation names are not unique. To make them unique, call `.obs_names_make_unique`.\n",
      "  utils.warn_names_duplicates(\"obs\")\n"
     ]
    }
   ],
   "source": [
    "combined_adata.obs[\"batch\"] = combined_adata.obs[\"sample_id\"]\n",
    "combined_adata.obs[\"patient_id\"] = combined_adata.obs[\"participant_id\"]\n",
    "combined_adata.obs[\"data_type\"] = combined_adata.obs[\"suspension_type\"].cat.rename_categories(\n",
    "    {\"cell\": \"single_cell\", \"nucleus\": \"single_nucleus\"}\n",
    ")\n",
    "combined_adata.obs[\"cell_types\"] = combined_adata.obs.singler_celltype_annotation\n",
    "print(combined_adata.obs.cell_types.value_counts())\n",
    "print(combined_adata.obs.cell_types.unique())"
   ]
  },
  {
   "cell_type": "markdown",
   "metadata": {},
   "source": [
    "We'll remove the version of 10Xv3.1, keeping only 10Xv2 and 10Xv3."
   ]
  },
  {
   "cell_type": "markdown",
   "metadata": {},
   "source": [
    "Create a mapping dictionary to get more \"broad\" cell types"
   ]
  },
  {
   "cell_type": "code",
   "execution_count": 8,
   "metadata": {},
   "outputs": [
    {
     "name": "stdout",
     "output_type": "stream",
     "text": [
      "                 singler_celltype_annotation   cell_types\n",
      "ACAAAGATCCTTCGAC                 chondrocyte  chondrocyte\n",
      "CATTCCGTCATCCTGC     cell of skeletal muscle  muscle cell\n",
      "ACCTACCCAGCCTATA                 chondrocyte  chondrocyte\n",
      "GCCATTCAGGCTGGAT                  macrophage   macrophage\n",
      "TAATTCCTCCATTCGC                  macrophage   macrophage\n"
     ]
    },
    {
     "name": "stderr",
     "output_type": "stream",
     "text": [
      "/Users/ivicha/Documents/snsc_VAE/env_vae/lib/python3.11/site-packages/anndata/_core/anndata.py:1818: UserWarning: Observation names are not unique. To make them unique, call `.obs_names_make_unique`.\n",
      "  utils.warn_names_duplicates(\"obs\")\n"
     ]
    },
    {
     "data": {
      "text/plain": [
       "AnnData object with n_obs × n_vars = 242293 × 60319\n",
       "    obs: 'barcodes', 'sum', 'detected', 'subsets_mito_sum', 'subsets_mito_detected', 'subsets_mito_percent', 'total', 'prob_compromised', 'scpca_filter', 'sizeFactor', 'cluster', 'singler_celltype_ontology', 'singler_celltype_annotation', 'cellassign_celltype_annotation', 'cellassign_max_prediction', 'library_id', 'sample_id', 'scpca_project_id', 'submitter_id', 'participant_id', 'submitter', 'age', 'sex', 'diagnosis', 'subdiagnosis', 'tissue_location', 'disease_timing', 'organism', 'is_xenograft', 'is_cell_line', 'development_stage_ontology_term_id', 'sex_ontology_term_id', 'organism_ontology_id', 'self_reported_ethnicity_ontology_term_id', 'disease_ontology_term_id', 'tissue_ontology_term_id', 'assay_ontology_term_id', 'suspension_type', 'is_primary_data', 'batch', 'patient_id', 'data_type', 'cell_types'\n",
       "    obsm: 'X_PCA', 'X_UMAP'\n",
       "    layers: 'spliced', 'counts'"
      ]
     },
     "execution_count": 8,
     "metadata": {},
     "output_type": "execute_result"
    }
   ],
   "source": [
    "cell_type_mapping = {\n",
    "    \"neuron\": \"neuron\",\n",
    "    \"smooth muscle cell\": \"muscle cell\",\n",
    "    \"macrophage\": \"macrophage\",\n",
    "    \"endothelial cell\": \"endothelial cell\",\n",
    "    \"chondrocyte\": \"chondrocyte\",  # No direct match\n",
    "    \"fat cell\": \"fat cell\",  # No direct match\n",
    "    \"melanocyte\": \"melanocyte\",\n",
    "    \"monocyte\": \"monocyte\",  # Map to a broader category\n",
    "    \"fibroblast\": \"fibroblast\",\n",
    "    \"muscle cell\": \"muscle cell\",  # Closest category\n",
    "    \"cell of skeletal muscle\": \"muscle cell\",  # Closest category\n",
    "    \"hematopoietic stem cell\": \"hematopoietic progenitor cell\",  # No direct match\n",
    "    \"microvascular endothelial cell\": \"endothelial cell\",\n",
    "    \"pericyte\": \"pericyte\",  # Closest category\n",
    "    \"astrocyte\": \"astrocyte\",  # Closest category\n",
    "    \"CD4-positive, alpha-beta T cell\": \"T cell\",\n",
    "    \"erythrocyte\": \"erythrocyte\",  # No direct match\n",
    "    \"common lymphoid progenitor\": \"common lymphoid progenitor\",  # No direct match\n",
    "    \"mesangial cell\": \"mesangial cell\",  # No direct match\n",
    "    \"dendritic cell\": \"Macrophage\",  # Closest category\n",
    "    \"natural killer cell\": \"T cell\",  # Include in T cells\n",
    "    \"epithelial cell\": \"epithelial cell\",  # No direct match\n",
    "    \"plasma cell\": \"plasma cell\",  # No direct match\n",
    "    \"alternatively activated macrophage\": \"macrophage\",\n",
    "    \"effector memory CD8-positive, alpha-beta T cell\": \"T cell\",\n",
    "    \"megakaryocyte\": \"megakaryocyte\",  # No direct match\n",
    "    \"central memory CD4-positive, alpha-beta T cell\": \"T cell\",\n",
    "    \"regulatory T cell\": \"T cell\",\n",
    "    \"naive B cell\": \"B cell\",  # No direct match\n",
    "    \"hematopoietic multipotent progenitor cell\": \"hematopoietic progenitor cell\",  # No direct match\n",
    "    \"granulocyte monocyte progenitor cell\": \"granulocyte monocyte progenitor cell\",  # No direct match\n",
    "    \"neutrophil\": \"neutrophil\",  # No direct match\n",
    "    \"CD8-positive, alpha-beta T cell\": \"T cell\",\n",
    "    \"central memory CD8-positive, alpha-beta T cell\": \"T cell\",\n",
    "    \"effector memory CD4-positive, alpha-beta T cell\": \"T cell\",\n",
    "    \"megakaryocyte-erythroid progenitor cell\": \"megakaryocyte-erythroid progenitor cell\",  # No direct match\n",
    "    \"inflammatory macrophage\": \"macrophage\",\n",
    "    \"eosinophil\": \"eosinophil\",  # No direct match\n",
    "    \"class switched memory B cell\": \"B cell\",  # No direct match\n",
    "    \"Unclassified cell\": None,  # No direct match\n",
    "    \"common myeloid progenitor\": \"common myeloid progenitor\",  # No direct match\n",
    "    \"memory B cell\": \"B cell\",  # No direct match\n",
    "}\n",
    "\n",
    "# Map new cell types to previous experiment's categories\n",
    "combined_adata.obs[\"cell_types\"] = combined_adata.obs[\"singler_celltype_annotation\"].map(cell_type_mapping)\n",
    "\n",
    "# Drop None (no direct match)\n",
    "combined_adata = combined_adata[~combined_adata.obs[\"cell_types\"].isnull()].copy()\n",
    "\n",
    "# Check the first few rows of the filtered data\n",
    "print(combined_adata.obs[[\"singler_celltype_annotation\", \"cell_types\"]].head())"
   ]
  },
  {
   "cell_type": "markdown",
   "metadata": {},
   "source": [
    "Removing cell types with less than 200 cells (there are over 30 datasets, less than 200 cells is very rare)"
   ]
  },
  {
   "cell_type": "code",
   "execution_count": 9,
   "metadata": {},
   "outputs": [
    {
     "name": "stderr",
     "output_type": "stream",
     "text": [
      "/Users/ivicha/Documents/snsc_VAE/env_vae/lib/python3.11/site-packages/anndata/_core/anndata.py:1818: UserWarning: Observation names are not unique. To make them unique, call `.obs_names_make_unique`.\n",
      "  utils.warn_names_duplicates(\"obs\")\n"
     ]
    },
    {
     "data": {
      "text/plain": [
       "cell_types\n",
       "muscle cell         131117\n",
       "fibroblast           23252\n",
       "astrocyte            18984\n",
       "neuron               18731\n",
       "chondrocyte          15878\n",
       "mesangial cell       12224\n",
       "endothelial cell      4403\n",
       "macrophage            3980\n",
       "pericyte              3882\n",
       "erythrocyte           2919\n",
       "fat cell              2138\n",
       "Name: count, dtype: int64"
      ]
     },
     "execution_count": 9,
     "metadata": {},
     "output_type": "execute_result"
    }
   ],
   "source": [
    "# Count the number of cells in each cell type\n",
    "cell_counts = combined_adata.obs[\"cell_types\"].value_counts()\n",
    "\n",
    "# Identify cell types with at least 100 cells\n",
    "valid_cell_types = cell_counts[cell_counts >= 1000].index\n",
    "\n",
    "# Filter the AnnData object to keep only the cells from these cell types\n",
    "combined_adata = combined_adata[combined_adata.obs[\"cell_types\"].isin(valid_cell_types)].copy()\n",
    "\n",
    "print(combined_adata.obs.cell_types.value_counts())"
   ]
  },
  {
   "cell_type": "markdown",
   "metadata": {},
   "source": [
    "## Finally, creating our training data:"
   ]
  },
  {
   "cell_type": "code",
   "execution_count": 10,
   "metadata": {},
   "outputs": [],
   "source": [
    "# We'll save to convert in https://www.biotools.fr/human/ensembl_symbol_converter\n",
    "gene_names = combined_adata.var_names.values\n",
    "# Define the file path\n",
    "file_path = f\"{path}/gene_names.csv\"\n",
    "# Convert the list to a DataFrame and save as CSV\n",
    "gene_df = pd.DataFrame(gene_names, columns=[\"Gene\"])\n",
    "gene_df.to_csv(file_path, index=False)"
   ]
  },
  {
   "cell_type": "code",
   "execution_count": 11,
   "metadata": {},
   "outputs": [],
   "source": [
    "# importing mapping\n",
    "file_path = f\"{path}gene_names_matched\"\n",
    "gene_df = pd.DataFrame(gene_names, columns=[\"Gene\"])\n",
    "genes_matched = pd.read_csv(file_path, sep=\"\\t\", header=None)\n",
    "genes_matched.columns = [\"Ensembl_ID\", \"Gene_Name\"]"
   ]
  },
  {
   "cell_type": "code",
   "execution_count": 12,
   "metadata": {},
   "outputs": [
    {
     "name": "stdout",
     "output_type": "stream",
     "text": [
      "Index(['TSPAN6', 'TNMD', 'DPM1', 'SCYL3', 'C1orf112', 'FGR', 'CFH', 'FUCA2',\n",
      "       'GCLC', 'NFYA',\n",
      "       ...\n",
      "       'AC021097.2', 'AL590381.1', 'AC003043.2', 'AC135068.11', 'AL356417.3',\n",
      "       'AC104389.6', 'AC010616.2', 'AL034430.1', 'AP000646.1', 'AP006216.3'],\n",
      "      dtype='object', length=57607)\n"
     ]
    },
    {
     "name": "stderr",
     "output_type": "stream",
     "text": [
      "/Users/ivicha/Documents/snsc_VAE/env_vae/lib/python3.11/site-packages/anndata/_core/anndata.py:1818: UserWarning: Observation names are not unique. To make them unique, call `.obs_names_make_unique`.\n",
      "  utils.warn_names_duplicates(\"obs\")\n",
      "/Users/ivicha/Documents/snsc_VAE/env_vae/lib/python3.11/site-packages/anndata/_core/anndata.py:1820: UserWarning: Variable names are not unique. To make them unique, call `.var_names_make_unique`.\n",
      "  utils.warn_names_duplicates(\"var\")\n",
      "/Users/ivicha/Documents/snsc_VAE/env_vae/lib/python3.11/site-packages/anndata/_core/anndata.py:1818: UserWarning: Observation names are not unique. To make them unique, call `.obs_names_make_unique`.\n",
      "  utils.warn_names_duplicates(\"obs\")\n",
      "/Users/ivicha/Documents/snsc_VAE/env_vae/lib/python3.11/site-packages/anndata/_core/anndata.py:1820: UserWarning: Variable names are not unique. To make them unique, call `.var_names_make_unique`.\n",
      "  utils.warn_names_duplicates(\"var\")\n"
     ]
    }
   ],
   "source": [
    "# Create a dictionary for mapping Ensembl IDs to new gene names\n",
    "gene_name_mapping = pd.Series(genes_matched[\"Gene_Name\"].values, index=genes_matched[\"Ensembl_ID\"]).to_dict()\n",
    "\n",
    "# Map the Ensembl IDs to new gene names in the AnnData object\n",
    "new_var_names = combined_adata.var.index.to_series().map(gene_name_mapping)\n",
    "\n",
    "# Drop genes that do not have a mapping (i.e., NaN values in new_var_names)\n",
    "valid_var_names = new_var_names.dropna()\n",
    "combined_adata = combined_adata[:, valid_var_names.index]\n",
    "\n",
    "# Update the var index (gene names) with the new names\n",
    "combined_adata.var.index = valid_var_names\n",
    "\n",
    "# Check the updated var names\n",
    "print(combined_adata.var.index)\n",
    "print(combined_adata.var_names_make_unique())"
   ]
  },
  {
   "cell_type": "code",
   "execution_count": 13,
   "metadata": {},
   "outputs": [],
   "source": [
    "# sc.pp.neighbors(combined_adata)\n",
    "# sc.tl.umap(combined_adata)\n",
    "# # Plot UMAP colored by cell type\n",
    "# sc.pl.umap(combined_adata, color='cell_types', legend_loc='right margin', title='Cell Type Annotations')\n",
    "# sc.pl.umap(combined_adata, color='data_type', legend_loc='right margin', title='Cell Type Annotations')"
   ]
  },
  {
   "cell_type": "code",
   "execution_count": 14,
   "metadata": {},
   "outputs": [],
   "source": [
    "# As it is popular to normalize the data for many methods,\n",
    "# we can use Scanpy for this; however,\n",
    "# it’s important to keep the count information intact for scvi-tools models.\n",
    "combined_adata.var_names_make_unique()\n",
    "combined_adata.obs_names_make_unique()\n",
    "combined_adata.layers[\"counts\"] = combined_adata.X.copy()"
   ]
  },
  {
   "cell_type": "code",
   "execution_count": 15,
   "metadata": {},
   "outputs": [
    {
     "name": "stderr",
     "output_type": "stream",
     "text": [
      "/Users/ivicha/Documents/snsc_VAE/env_vae/lib/python3.11/site-packages/anndata/_core/anndata.py:1818: UserWarning: Observation names are not unique. To make them unique, call `.obs_names_make_unique`.\n",
      "  utils.warn_names_duplicates(\"obs\")\n"
     ]
    },
    {
     "data": {
      "text/plain": [
       "cell_types\n",
       "muscle cell         131117\n",
       "fibroblast           23252\n",
       "astrocyte            18984\n",
       "neuron               18731\n",
       "chondrocyte          15878\n",
       "mesangial cell       12224\n",
       "endothelial cell      4403\n",
       "macrophage            3980\n",
       "pericyte              3882\n",
       "erythrocyte           2919\n",
       "fat cell              2138\n",
       "Name: count, dtype: int64"
      ]
     },
     "execution_count": 15,
     "metadata": {},
     "output_type": "execute_result"
    }
   ],
   "source": [
    "# Count the number of cells in each cell type\n",
    "cell_counts = combined_adata.obs[\"cell_types\"].value_counts()\n",
    "# Identify cell types with at least 100 cells\n",
    "valid_cell_types = cell_counts[cell_counts >= 1000].index\n",
    "# Filter the AnnData object to keep only the cells from these cell types\n",
    "combined_adata = combined_adata[combined_adata.obs[\"cell_types\"].isin(valid_cell_types)].copy()\n",
    "print(combined_adata.obs.cell_types.value_counts())"
   ]
  },
  {
   "cell_type": "markdown",
   "metadata": {},
   "source": [
    "Withholding datasets for deconvolution experiment:"
   ]
  },
  {
   "cell_type": "code",
   "execution_count": 13,
   "metadata": {},
   "outputs": [],
   "source": [
    "# Retrieve the last 4 unique patient_ids for single_nucleus data_type\n",
    "last_four_patient_ids = combined_adata[combined_adata.obs.data_type == \"single_nucleus\"].obs.patient_id.unique()[-4:]"
   ]
  },
  {
   "cell_type": "code",
   "execution_count": 14,
   "metadata": {},
   "outputs": [
    {
     "name": "stderr",
     "output_type": "stream",
     "text": [
      "/Users/ivicha/Documents/snsc_VAE/env_vae/lib/python3.11/site-packages/anndata/_core/anndata.py:1818: UserWarning: Observation names are not unique. To make them unique, call `.obs_names_make_unique`.\n",
      "  utils.warn_names_duplicates(\"obs\")\n",
      "/Users/ivicha/Documents/snsc_VAE/env_vae/lib/python3.11/site-packages/anndata/_core/anndata.py:1818: UserWarning: Observation names are not unique. To make them unique, call `.obs_names_make_unique`.\n",
      "  utils.warn_names_duplicates(\"obs\")\n",
      "/Users/ivicha/Documents/snsc_VAE/env_vae/lib/python3.11/site-packages/anndata/_core/anndata.py:1818: UserWarning: Observation names are not unique. To make them unique, call `.obs_names_make_unique`.\n",
      "  utils.warn_names_duplicates(\"obs\")\n",
      "/Users/ivicha/Documents/snsc_VAE/env_vae/lib/python3.11/site-packages/anndata/_core/anndata.py:1818: UserWarning: Observation names are not unique. To make them unique, call `.obs_names_make_unique`.\n",
      "  utils.warn_names_duplicates(\"obs\")\n"
     ]
    }
   ],
   "source": [
    "# Concatenate data for the last 4 patient_ids\n",
    "sn_withheld = sc.concat([combined_adata[combined_adata.obs.patient_id == pid] for pid in last_four_patient_ids])"
   ]
  },
  {
   "cell_type": "code",
   "execution_count": 15,
   "metadata": {},
   "outputs": [],
   "source": [
    "# Update the 'deconv' column\n",
    "sn_withheld.obs[\"deconv\"] = \"sn_ref\"\n",
    "\n",
    "# Remove these patient_ids from combined_adata\n",
    "combined_adata = combined_adata[~combined_adata.obs.patient_id.isin(last_four_patient_ids)]"
   ]
  },
  {
   "cell_type": "code",
   "execution_count": 16,
   "metadata": {},
   "outputs": [
    {
     "name": "stderr",
     "output_type": "stream",
     "text": [
      "/Users/ivicha/Documents/snsc_VAE/env_vae/lib/python3.11/site-packages/anndata/_core/anndata.py:1818: UserWarning: Observation names are not unique. To make them unique, call `.obs_names_make_unique`.\n",
      "  utils.warn_names_duplicates(\"obs\")\n",
      "/Users/ivicha/Documents/snsc_VAE/env_vae/lib/python3.11/site-packages/anndata/_core/anndata.py:1818: UserWarning: Observation names are not unique. To make them unique, call `.obs_names_make_unique`.\n",
      "  utils.warn_names_duplicates(\"obs\")\n",
      "/Users/ivicha/Documents/snsc_VAE/env_vae/lib/python3.11/site-packages/anndata/_core/anndata.py:1818: UserWarning: Observation names are not unique. To make them unique, call `.obs_names_make_unique`.\n",
      "  utils.warn_names_duplicates(\"obs\")\n"
     ]
    }
   ],
   "source": [
    "# Retrieve the last 4 unique patient_ids for single_nucleus data_type\n",
    "last_four_patient_ids = combined_adata[combined_adata.obs.data_type == \"single_nucleus\"].obs.patient_id.unique()[-4:]\n",
    "\n",
    "# Concatenate data for the last 4 patient_ids\n",
    "sc_withheld_1 = sc.concat([combined_adata[combined_adata.obs.patient_id == pid] for pid in last_four_patient_ids])\n",
    "\n",
    "# Update the 'deconv' column\n",
    "sc_withheld_1.obs[\"deconv\"] = \"sc_ref\"\n",
    "\n",
    "# Remove these patient_ids from combined_adata\n",
    "combined_adata = combined_adata[~combined_adata.obs.patient_id.isin(last_four_patient_ids)]"
   ]
  },
  {
   "cell_type": "code",
   "execution_count": 17,
   "metadata": {},
   "outputs": [
    {
     "name": "stderr",
     "output_type": "stream",
     "text": [
      "/Users/ivicha/Documents/snsc_VAE/env_vae/lib/python3.11/site-packages/anndata/_core/anndata.py:1818: UserWarning: Observation names are not unique. To make them unique, call `.obs_names_make_unique`.\n",
      "  utils.warn_names_duplicates(\"obs\")\n",
      "/Users/ivicha/Documents/snsc_VAE/env_vae/lib/python3.11/site-packages/anndata/_core/anndata.py:1818: UserWarning: Observation names are not unique. To make them unique, call `.obs_names_make_unique`.\n",
      "  utils.warn_names_duplicates(\"obs\")\n"
     ]
    }
   ],
   "source": [
    "# Retrieve the first 4 unique patient_ids for single_nucleus data_type\n",
    "first_four_patient_ids = combined_adata[combined_adata.obs.data_type == \"single_nucleus\"].obs.patient_id.unique()[:4]\n",
    "\n",
    "# Concatenate data for the last 4 patient_ids\n",
    "sc_withheld_2 = sc.concat([combined_adata[combined_adata.obs.patient_id == pid] for pid in first_four_patient_ids])\n",
    "\n",
    "# Update the 'deconv' column\n",
    "sc_withheld_2.obs[\"deconv\"] = \"pseudobulks\"\n",
    "\n",
    "# Remove these patient_ids from combined_adata\n",
    "combined_adata = combined_adata[~combined_adata.obs.patient_id.isin(first_four_patient_ids)]"
   ]
  },
  {
   "cell_type": "markdown",
   "metadata": {},
   "source": [
    "And diving into Training and Testing with Remaining Cells:"
   ]
  },
  {
   "cell_type": "code",
   "execution_count": 18,
   "metadata": {},
   "outputs": [
    {
     "name": "stderr",
     "output_type": "stream",
     "text": [
      "/Users/ivicha/Documents/snsc_VAE/env_vae/lib/python3.11/site-packages/anndata/_core/anndata.py:1818: UserWarning: Observation names are not unique. To make them unique, call `.obs_names_make_unique`.\n",
      "  utils.warn_names_duplicates(\"obs\")\n",
      "/Users/ivicha/Documents/snsc_VAE/env_vae/lib/python3.11/site-packages/anndata/_core/anndata.py:1818: UserWarning: Observation names are not unique. To make them unique, call `.obs_names_make_unique`.\n",
      "  utils.warn_names_duplicates(\"obs\")\n",
      "/Users/ivicha/Documents/snsc_VAE/env_vae/lib/python3.11/site-packages/anndata/_core/anndata.py:1818: UserWarning: Observation names are not unique. To make them unique, call `.obs_names_make_unique`.\n",
      "  utils.warn_names_duplicates(\"obs\")\n",
      "/Users/ivicha/Documents/snsc_VAE/env_vae/lib/python3.11/site-packages/anndata/_core/anndata.py:1818: UserWarning: Observation names are not unique. To make them unique, call `.obs_names_make_unique`.\n",
      "  utils.warn_names_duplicates(\"obs\")\n",
      "/Users/ivicha/Documents/snsc_VAE/env_vae/lib/python3.11/site-packages/anndata/_core/anndata.py:1818: UserWarning: Observation names are not unique. To make them unique, call `.obs_names_make_unique`.\n",
      "  utils.warn_names_duplicates(\"obs\")\n"
     ]
    }
   ],
   "source": [
    "# and writing into one Anndata:\n",
    "adata_withheld = sc.concat([sn_withheld, sc_withheld_1, sc_withheld_2])\n",
    "adata_path = os.path.join(path, f\"sc_sn_{res_name}_withheld.h5ad\")\n",
    "adata_withheld.write_h5ad(adata_path)"
   ]
  },
  {
   "cell_type": "code",
   "execution_count": 19,
   "metadata": {},
   "outputs": [
    {
     "name": "stderr",
     "output_type": "stream",
     "text": [
      "/var/folders/d3/x10lxf7x1n37__s3n36qxmlw0000gp/T/ipykernel_40125/2183832773.py:1: ImplicitModificationWarning: Trying to modify attribute `.obs` of view, initializing view as actual.\n",
      "  combined_adata.obs[\"TrainTest\"] = \"Train\"\n",
      "/Users/ivicha/Documents/snsc_VAE/env_vae/lib/python3.11/site-packages/anndata/_core/anndata.py:1818: UserWarning: Observation names are not unique. To make them unique, call `.obs_names_make_unique`.\n",
      "  utils.warn_names_duplicates(\"obs\")\n",
      "/Users/ivicha/Documents/snsc_VAE/env_vae/lib/python3.11/site-packages/anndata/_core/anndata.py:1818: UserWarning: Observation names are not unique. To make them unique, call `.obs_names_make_unique`.\n",
      "  utils.warn_names_duplicates(\"obs\")\n",
      "/Users/ivicha/Documents/snsc_VAE/env_vae/lib/python3.11/site-packages/anndata/_core/anndata.py:1818: UserWarning: Observation names are not unique. To make them unique, call `.obs_names_make_unique`.\n",
      "  utils.warn_names_duplicates(\"obs\")\n",
      "/Users/ivicha/Documents/snsc_VAE/env_vae/lib/python3.11/site-packages/anndata/_core/anndata.py:1818: UserWarning: Observation names are not unique. To make them unique, call `.obs_names_make_unique`.\n",
      "  utils.warn_names_duplicates(\"obs\")\n",
      "/Users/ivicha/Documents/snsc_VAE/env_vae/lib/python3.11/site-packages/anndata/_core/anndata.py:1818: UserWarning: Observation names are not unique. To make them unique, call `.obs_names_make_unique`.\n",
      "  utils.warn_names_duplicates(\"obs\")\n",
      "/Users/ivicha/Documents/snsc_VAE/env_vae/lib/python3.11/site-packages/anndata/_core/anndata.py:1818: UserWarning: Observation names are not unique. To make them unique, call `.obs_names_make_unique`.\n",
      "  utils.warn_names_duplicates(\"obs\")\n"
     ]
    }
   ],
   "source": [
    "combined_adata.obs[\"TrainTest\"] = \"Train\"\n",
    "adata_withheld.obs[\"TrainTest\"] = \"Test\"\n",
    "adata = sc.concat([combined_adata, adata_withheld])"
   ]
  },
  {
   "cell_type": "markdown",
   "metadata": {},
   "source": [
    "And Saving:"
   ]
  },
  {
   "cell_type": "code",
   "execution_count": 20,
   "metadata": {},
   "outputs": [
    {
     "ename": "",
     "evalue": "",
     "output_type": "error",
     "traceback": [
      "\u001b[1;31mThe Kernel crashed while executing code in the current cell or a previous cell. \n",
      "\u001b[1;31mPlease review the code in the cell(s) to identify a possible cause of the failure. \n",
      "\u001b[1;31mClick <a href='https://aka.ms/vscodeJupyterKernelCrash'>here</a> for more info. \n",
      "\u001b[1;31mView Jupyter <a href='command:jupyter.viewOutput'>log</a> for further details."
     ]
    }
   ],
   "source": [
    "# writing our data:\n",
    "adata_path = os.path.join(path, f\"sc_sn_{res_name}_train.h5ad\")\n",
    "combined_adata.write_h5ad(adata_path)\n",
    "\n",
    "adata_path = os.path.join(path, f\"sc_sn_{res_name}_test.h5ad\")\n",
    "adata_withheld.write_h5ad(adata_path)"
   ]
  }
 ],
 "metadata": {
  "kernelspec": {
   "display_name": "env_vae",
   "language": "python",
   "name": "python3"
  },
  "language_info": {
   "codemirror_mode": {
    "name": "ipython",
    "version": 3
   },
   "file_extension": ".py",
   "mimetype": "text/x-python",
   "name": "python",
   "nbconvert_exporter": "python",
   "pygments_lexer": "ipython3",
   "version": "3.11.0"
  }
 },
 "nbformat": 4,
 "nbformat_minor": 2
}
